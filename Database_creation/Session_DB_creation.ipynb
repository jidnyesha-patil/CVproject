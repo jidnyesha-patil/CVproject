{
 "cells": [
  {
   "cell_type": "code",
   "execution_count": 32,
   "id": "a09a0f6a",
   "metadata": {},
   "outputs": [],
   "source": [
    "import cv2\n",
    "import time\n",
    "import os"
   ]
  },
  {
   "cell_type": "code",
   "execution_count": 33,
   "id": "03c5b856",
   "metadata": {},
   "outputs": [],
   "source": [
    "def save_vid(name,path='C:\\\\Users\\\\rushi\\\\Documents\\\\CV_project\\\\Session_DB\\\\'):   \n",
    "    vid = cv2.VideoCapture(0)\n",
    "    if (vid.isOpened() == False):\n",
    "        print(\"Error reading video file\")\n",
    "\n",
    "    # We need to set resolutions.\n",
    "    # so, convert them from float to integer.\n",
    "    frame_width = int(vid.get(3))\n",
    "    frame_height = int(vid.get(4))\n",
    "\n",
    "    size = (frame_width, frame_height)\n",
    "    path = path + name\n",
    "    print(path)\n",
    "    name_2 =1\n",
    "    if not os.path.exists(path):\n",
    "        os.makedirs(path)\n",
    "    else:\n",
    "        name_2 += 1\n",
    "    path = path + \"\\\\\" + name + str(name_2) + \".avi\"\n",
    "    \n",
    "    result = cv2.VideoWriter(path,\n",
    "                             cv2.VideoWriter_fourcc(*'MJPG'),\n",
    "                             10, size)\n",
    "    t_start = time.time()\n",
    "    t_end = time.time()\n",
    "    t_elapsed = t_end - t_start\n",
    "    while(t_elapsed != 300 ):\n",
    "\n",
    "        # Capture the video frame\n",
    "        # by frame\n",
    "        ret, frame = vid.read()\n",
    "        if ret == True:\n",
    "            #print(\"Saving\")\n",
    "            # Write the frame into the\n",
    "            # file 'output.avi'\n",
    "            result.write(frame)\n",
    "\n",
    "            # Display the frame\n",
    "            # saved in the file\n",
    "            cv2.imshow('Frame', frame)\n",
    "\n",
    "        # Display the resulting frame\n",
    "        # the 'q' button is set as the\n",
    "        # quitting button you may use any\n",
    "        # desired button of your choice\n",
    "        if cv2.waitKey(1) & 0xFF == ord('q'):\n",
    "            break\n",
    "        t_end = time.time()\n",
    "        t_elapsed = t_end - t_start\n",
    "    # After the loop release the cap object\n",
    "    vid.release()\n",
    "    result.release()\n",
    "    # Destroy all the windows\n",
    "    cv2.destroyAllWindows()"
   ]
  },
  {
   "cell_type": "code",
   "execution_count": 34,
   "id": "29ea5c20",
   "metadata": {},
   "outputs": [
    {
     "name": "stdout",
     "output_type": "stream",
     "text": [
      "Continue?(y/n)y\n",
      "Enter the name of the kid:piyush\n",
      "C:\\Users\\rushi\\Documents\\CV_project\\Session_DB\\piyush\n",
      "Continue?(y/n)n\n"
     ]
    }
   ],
   "source": [
    "f1 = input(\"Continue?(y/n)\")\n",
    "while f1 == \"y\" or f1 == \"Y\":\n",
    "    name = input(\"Enter the name of the kid:\")\n",
    "    save_vid(name)\n",
    "    f1 = input(\"Continue?(y/n)\")\n"
   ]
  },
  {
   "cell_type": "code",
   "execution_count": 35,
   "id": "3f6ef3b9",
   "metadata": {},
   "outputs": [
    {
     "name": "stdout",
     "output_type": "stream",
     "text": [
      "1637559065.0503497\n"
     ]
    }
   ],
   "source": [
    "t = time.time()\n",
    "print(t)"
   ]
  },
  {
   "cell_type": "code",
   "execution_count": null,
   "id": "cd2cfccf",
   "metadata": {},
   "outputs": [],
   "source": []
  }
 ],
 "metadata": {
  "kernelspec": {
   "display_name": "Python 3",
   "language": "python",
   "name": "python3"
  },
  "language_info": {
   "codemirror_mode": {
    "name": "ipython",
    "version": 3
   },
   "file_extension": ".py",
   "mimetype": "text/x-python",
   "name": "python",
   "nbconvert_exporter": "python",
   "pygments_lexer": "ipython3",
   "version": "3.6.13"
  }
 },
 "nbformat": 4,
 "nbformat_minor": 5
}
