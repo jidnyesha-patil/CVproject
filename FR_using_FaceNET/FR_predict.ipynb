{
 "cells": [
  {
   "cell_type": "code",
   "execution_count": 5,
   "id": "27306076",
   "metadata": {},
   "outputs": [],
   "source": [
    "import cv2\n",
    "import time\n",
    "import os\n",
    "import load_faces\n",
    "import mtcnn\n",
    "import numpy as np\n",
    "import faceNet_feature_extraction as fnet\n",
    "from sklearn.preprocessing import Normalizer\n",
    "import pickle"
   ]
  },
  {
   "cell_type": "code",
   "execution_count": 6,
   "id": "d933aecb",
   "metadata": {},
   "outputs": [],
   "source": [
    "def capture_image():   \n",
    "    vid = cv2.VideoCapture(0)\n",
    "    if (vid.isOpened() == False):\n",
    "        print(\"Error reading video file\")\n",
    "        # Capture the video frame\n",
    "        # by frame\n",
    "    ret, frame = vid.read()\n",
    "    \n",
    "    vid.release()\n",
    "    #result.release()\n",
    "    return frame\n",
    "\n",
    "def print_image(face,label='face'):  \n",
    "    cv2.imshow(label,face)\n",
    "    cv2.waitKey(0)\n",
    "    cv2.destroyAllWindows()\n",
    "    return\n",
    "\n",
    "detector = mtcnn.MTCNN()\n",
    "filename = 'FR_model.sav'\n",
    "model = pickle.load(open(filename, 'rb'))\n",
    "\n",
    "def predict_face(unknown):\n",
    "    print_image(unknown,\"Unknown\")\n",
    "    pix = np.asarray(unknown)\n",
    "    unknown_face = load_faces.face_detection(pix,detector)\n",
    "    if type(unknown_face) == type(None):\n",
    "        print(\"NO Face detected!\")\n",
    "        break\n",
    "    \n",
    "    embeddings = fnet.get_embedding(unknown_face,fnet.model)\n",
    "    in_encoder = Normalizer(norm='l2')\n",
    "    embeddings = embeddings.reshape(-1,1)\n",
    "    print(embeddings.shape)\n",
    "    embeddings_norm = in_encoder.transform(embeddings)\n",
    "    print(embeddings_norm.shape)\n",
    "    known = model.predict(embeddings_norm.transpose())\n",
    "    print(known)\n",
    "    \n",
    "    return label\n"
   ]
  },
  {
   "cell_type": "code",
   "execution_count": null,
   "id": "3e533def",
   "metadata": {},
   "outputs": [
    {
     "name": "stdout",
     "output_type": "stream",
     "text": [
      "Continue?(y/n)y\n",
      "(128, 1)\n",
      "(128, 1)\n",
      "[3]\n",
      "Continue?(y/n)y\n",
      "(128, 1)\n",
      "(128, 1)\n",
      "[5]\n",
      "Continue?(y/n)y\n",
      "(128, 1)\n",
      "(128, 1)\n",
      "[4]\n",
      "Continue?(y/n)y\n",
      "(128, 1)\n",
      "(128, 1)\n",
      "[0]\n",
      "Continue?(y/n)y\n",
      "(128, 1)\n",
      "(128, 1)\n",
      "[0]\n"
     ]
    }
   ],
   "source": [
    "f1 = input(\"Continue?(y/n)\")\n",
    "while f1 == \"y\" or f1 == \"Y\":\n",
    "    unknown = capture_image()\n",
    "    label = predict_face(unknown)\n",
    "    f1 = input(\"Continue?(y/n)\")"
   ]
  },
  {
   "cell_type": "code",
   "execution_count": null,
   "id": "50982f14",
   "metadata": {},
   "outputs": [],
   "source": [
    "a = np.array([1 2 3])\n",
    "(a.transpose())"
   ]
  },
  {
   "cell_type": "code",
   "execution_count": null,
   "id": "7d20d16a",
   "metadata": {},
   "outputs": [],
   "source": []
  }
 ],
 "metadata": {
  "kernelspec": {
   "display_name": "Python 3",
   "language": "python",
   "name": "python3"
  },
  "language_info": {
   "codemirror_mode": {
    "name": "ipython",
    "version": 3
   },
   "file_extension": ".py",
   "mimetype": "text/x-python",
   "name": "python",
   "nbconvert_exporter": "python",
   "pygments_lexer": "ipython3",
   "version": "3.6.13"
  }
 },
 "nbformat": 4,
 "nbformat_minor": 5
}
