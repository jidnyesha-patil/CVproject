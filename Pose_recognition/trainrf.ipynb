{
 "cells": [
  {
   "cell_type": "code",
   "execution_count": 1,
   "id": "d31fe9d4",
   "metadata": {},
   "outputs": [],
   "source": [
    "import mediapipe as mp\n",
    "import cv2\n",
    "import csv\n",
    "import os\n",
    "import numpy as np\n",
    "import csv\n",
    "import os\n",
    "import numpy as np\n",
    "import pandas as pd\n",
    "from sklearn.model_selection import train_test_split\n",
    "from sklearn.pipeline import make_pipeline \n",
    "from sklearn.preprocessing import StandardScaler \n",
    "\n",
    "from sklearn.linear_model import LogisticRegression, RidgeClassifier\n",
    "from sklearn.ensemble import RandomForestClassifier, GradientBoostingClassifier"
   ]
  },
  {
   "cell_type": "code",
   "execution_count": 2,
   "id": "bf4732a2",
   "metadata": {},
   "outputs": [],
   "source": [
    "df = pd.read_csv('coordinates_pose.csv')"
   ]
  },
  {
   "cell_type": "code",
   "execution_count": 3,
   "id": "2e101d85",
   "metadata": {},
   "outputs": [],
   "source": [
    "X = df.drop('class', axis=1) # features\n",
    "y = df['class'] # target value"
   ]
  },
  {
   "cell_type": "code",
   "execution_count": 4,
   "id": "8a3dcb31",
   "metadata": {},
   "outputs": [],
   "source": [
    "X_train, X_test, y_train, y_test = train_test_split(X, y, test_size=0.3, random_state=1234)"
   ]
  },
  {
   "cell_type": "code",
   "execution_count": 5,
   "id": "88bd6f46",
   "metadata": {},
   "outputs": [],
   "source": [
    "pipelines = {\n",
    "    'rf':make_pipeline(StandardScaler(), RandomForestClassifier())\n",
    "}"
   ]
  },
  {
   "cell_type": "code",
   "execution_count": 8,
   "id": "916144e5",
   "metadata": {},
   "outputs": [],
   "source": [
    "fit_model_rf = {}\n",
    "for algo, pipeline in pipelines.items():\n",
    "    model2 = pipeline.fit(X_train, y_train)\n",
    "    fit_model_rf[algo] = model2"
   ]
  },
  {
   "cell_type": "code",
   "execution_count": 9,
   "id": "c965288d",
   "metadata": {},
   "outputs": [
    {
     "data": {
      "text/plain": [
       "{'rf': Pipeline(steps=[('standardscaler', StandardScaler()),\n",
       "                 ('randomforestclassifier', RandomForestClassifier())])}"
      ]
     },
     "execution_count": 9,
     "metadata": {},
     "output_type": "execute_result"
    }
   ],
   "source": [
    "fit_model_rf"
   ]
  },
  {
   "cell_type": "code",
   "execution_count": 11,
   "id": "32819c54",
   "metadata": {},
   "outputs": [
    {
     "data": {
      "text/plain": [
       "array(['studying', 'studying', 'lookinghereandthere', ..., 'distracted',\n",
       "       'lookinghereandthere', 'studying'], dtype=object)"
      ]
     },
     "execution_count": 11,
     "metadata": {},
     "output_type": "execute_result"
    }
   ],
   "source": [
    "fit_model_rf['rf'].predict(X_test)"
   ]
  },
  {
   "cell_type": "code",
   "execution_count": 12,
   "id": "4b17cc17",
   "metadata": {},
   "outputs": [],
   "source": [
    "from sklearn.metrics import accuracy_score # Accuracy metrics \n",
    "import pickle "
   ]
  },
  {
   "cell_type": "code",
   "execution_count": 14,
   "id": "c94b8a1b",
   "metadata": {},
   "outputs": [
    {
     "name": "stdout",
     "output_type": "stream",
     "text": [
      "rf 1.0\n"
     ]
    }
   ],
   "source": [
    "for algo, model in fit_model_rf.items():\n",
    "    yhat = model.predict(X_test)\n",
    "    print(algo, accuracy_score(y_test, yhat))#piining yhat prediction data vs y_test data "
   ]
  },
  {
   "cell_type": "code",
   "execution_count": 15,
   "id": "75c629ae",
   "metadata": {},
   "outputs": [
    {
     "data": {
      "text/plain": [
       "array(['studying', 'studying', 'lookinghereandthere', ..., 'distracted',\n",
       "       'lookinghereandthere', 'studying'], dtype=object)"
      ]
     },
     "execution_count": 15,
     "metadata": {},
     "output_type": "execute_result"
    }
   ],
   "source": [
    "fit_model_rf['rf'].predict(X_test)"
   ]
  },
  {
   "cell_type": "code",
   "execution_count": 16,
   "id": "3de40cbc",
   "metadata": {},
   "outputs": [
    {
     "data": {
      "text/plain": [
       "3030               studying\n",
       "4272               studying\n",
       "9545    lookinghereandthere\n",
       "782              distracted\n",
       "2514             distracted\n",
       "               ...         \n",
       "4024               studying\n",
       "2788             distracted\n",
       "1226             distracted\n",
       "8533    lookinghereandthere\n",
       "6009               studying\n",
       "Name: class, Length: 3338, dtype: object"
      ]
     },
     "execution_count": 16,
     "metadata": {},
     "output_type": "execute_result"
    }
   ],
   "source": [
    "y_test"
   ]
  },
  {
   "cell_type": "code",
   "execution_count": 17,
   "id": "7411b599",
   "metadata": {},
   "outputs": [],
   "source": [
    "with open('body_language_rf.pkl', 'wb') as f:\n",
    "    pickle.dump(fit_model_rf['rf'], f)"
   ]
  },
  {
   "cell_type": "code",
   "execution_count": null,
   "id": "d93ee1d9",
   "metadata": {},
   "outputs": [],
   "source": []
  }
 ],
 "metadata": {
  "kernelspec": {
   "display_name": "Python 3",
   "language": "python",
   "name": "python3"
  },
  "language_info": {
   "codemirror_mode": {
    "name": "ipython",
    "version": 3
   },
   "file_extension": ".py",
   "mimetype": "text/x-python",
   "name": "python",
   "nbconvert_exporter": "python",
   "pygments_lexer": "ipython3",
   "version": "3.6.13"
  }
 },
 "nbformat": 4,
 "nbformat_minor": 5
}
